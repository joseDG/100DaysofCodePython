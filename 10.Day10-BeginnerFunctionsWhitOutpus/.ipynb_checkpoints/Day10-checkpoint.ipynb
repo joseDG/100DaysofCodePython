{
 "cells": [
  {
   "cell_type": "code",
   "execution_count": 2,
   "metadata": {},
   "outputs": [
    {
     "name": "stdout",
     "output_type": "stream",
     "text": [
      "Angela Yu\n"
     ]
    }
   ],
   "source": [
    "#Functions with Outputs\n",
    "def format_name(f_name, l_name):\n",
    "    formated_f_name = f_name.title()\n",
    "    formated_l_name = l_name.title()\n",
    "    return f\"{formated_f_name} {formated_l_name}\"\n",
    "\n",
    "print(format_name(\"Angela\", \"YU\"))\n",
    "    "
   ]
  },
  {
   "cell_type": "code",
   "execution_count": 7,
   "metadata": {},
   "outputs": [
    {
     "name": "stdout",
     "output_type": "stream",
     "text": [
      "What is your first name?ASD\n",
      "What is your last name? dsfs\n",
      "Result: Asd Dsfs\n"
     ]
    }
   ],
   "source": [
    "#Mukltiple return\n",
    "def format_name(f_name, l_name):\n",
    "    if f_name == \"\" or l_name == \"\":\n",
    "        return \"You didnt provide valid inputs.\"\n",
    "    formated_f_name = f_name.title()\n",
    "    formated_l_name = l_name.title()\n",
    "    return f\"Result: {formated_f_name} {formated_l_name}\"\n",
    "print(format_name(input(\"What is your first name?\"),\n",
    "                 input(\"What is your last name? \")))"
   ]
  },
  {
   "cell_type": "code",
   "execution_count": 10,
   "metadata": {},
   "outputs": [
    {
     "name": "stdout",
     "output_type": "stream",
     "text": [
      "Enter a year: 2020\n",
      "Enter a month: 6\n",
      "30\n"
     ]
    }
   ],
   "source": [
    "# Excercise Year Leap \n",
    "\n",
    "def is_leap(year):\n",
    "  if year % 4 == 0:\n",
    "    if year % 100 == 0:\n",
    "      if year % 400 == 0:\n",
    "        return True\n",
    "      else:\n",
    "        return False\n",
    "    else:\n",
    "        return True\n",
    "  else:\n",
    "    return False\n",
    "    \n",
    "def days_in_month(year, month):\n",
    "  month_days = [31, 28, 31, 30, 31, 30, 31, 31, 30, 31, 30, 31]\n",
    "  if month > 12 or month < 1:\n",
    "    return \"Invalid month entered.\"\n",
    "  if month == 2 and is_leap(year):\n",
    "    return 29\n",
    "  return month_days[month - 1]\n",
    "\n",
    "\n",
    "\n",
    "#Do NOT change any of the code below 👇\n",
    "year = int(input(\"Enter a year: \"))\n",
    "month = int(input(\"Enter a month: \"))\n",
    "days = days_in_month(year, month)\n",
    "print(days)\n"
   ]
  },
  {
   "cell_type": "code",
   "execution_count": 11,
   "metadata": {},
   "outputs": [
    {
     "data": {
      "text/plain": [
       "'Hello'"
      ]
     },
     "execution_count": 11,
     "metadata": {},
     "output_type": "execute_result"
    }
   ],
   "source": [
    "#DocStrings => Son para comentar las funciones\n",
    "def hello():\n",
    "    \"\"\"Print helllo world\"\"\"\n",
    "    return \"Hello\"\n",
    "hello()"
   ]
  }
 ],
 "metadata": {
  "kernelspec": {
   "display_name": "Python 3",
   "language": "python",
   "name": "python3"
  },
  "language_info": {
   "codemirror_mode": {
    "name": "ipython",
    "version": 3
   },
   "file_extension": ".py",
   "mimetype": "text/x-python",
   "name": "python",
   "nbconvert_exporter": "python",
   "pygments_lexer": "ipython3",
   "version": "3.8.5"
  }
 },
 "nbformat": 4,
 "nbformat_minor": 4
}
