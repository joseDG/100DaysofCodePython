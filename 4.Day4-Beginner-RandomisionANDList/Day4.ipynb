{
 "cells": [
  {
   "cell_type": "markdown",
   "metadata": {},
   "source": [
    "### Valores Randomicos"
   ]
  },
  {
   "cell_type": "code",
   "execution_count": 10,
   "metadata": {},
   "outputs": [
    {
     "name": "stdout",
     "output_type": "stream",
     "text": [
      "3\n"
     ]
    }
   ],
   "source": [
    "import random\n",
    "\n",
    "random_integer = random.randint(1, 10)\n",
    "print(random_integer)"
   ]
  },
  {
   "cell_type": "code",
   "execution_count": 21,
   "metadata": {},
   "outputs": [
    {
     "name": "stdout",
     "output_type": "stream",
     "text": [
      "4.351791400740916\n",
      "Your love score is 29\n"
     ]
    }
   ],
   "source": [
    "#Float\n",
    "import random\n",
    "\n",
    "random_float = random.random() * 5\n",
    "print(random_float)\n",
    "\n",
    "#ejemplo\n",
    "love_score = random.randint(1, 100)\n",
    "print(f\"Your love score is {love_score}\")\n"
   ]
  },
  {
   "cell_type": "markdown",
   "metadata": {},
   "source": [
    "## Heads or Tails\n",
    "\n",
    "# Instructions\n",
    "\n",
    "You are going to write a virtual coin toss program. It will randomly tell the user \"Heads\" or \"Tails\". \n",
    "\n",
    "**Important**, the first letter should be capitalised and spelt exactly like in the example e.g. Heads, not heads.\n",
    "\n",
    "There are many ways of doing this. But to practice what we learnt in the last lesson, you should generate a random number, either 0 or 1. Then use that number to print out Heads or Tails.\n",
    "\n",
    "e.g.\n",
    "1 means Heads\n",
    "0 means Tails \n",
    "\n",
    "# Example Output\n",
    "\n",
    "```\n",
    "Heads\n",
    "```\n",
    "\n",
    "or\n",
    "\n",
    "```\n",
    "Tails\n",
    "```\n",
    "\n",
    "\n",
    "# Solution\n",
    "\n",
    "[https://repl.it/@appbrewery/day-4-1-solution](https://repl.it/@appbrewery/day-4-1-solution)"
   ]
  },
  {
   "cell_type": "code",
   "execution_count": 47,
   "metadata": {},
   "outputs": [
    {
     "name": "stdout",
     "output_type": "stream",
     "text": [
      "sello\n"
     ]
    }
   ],
   "source": [
    "#Solution game cara or sello\n",
    "\n",
    "import random\n",
    "\n",
    "moneda = random.randint(0, 1)\n",
    "\n",
    "if moneda == 1:\n",
    "    print(\"cara\")\n",
    "else:\n",
    "    print(\"sello\")"
   ]
  },
  {
   "cell_type": "markdown",
   "metadata": {},
   "source": [
    "### LISTAS"
   ]
  },
  {
   "cell_type": "markdown",
   "metadata": {},
   "source": [
    "Son una forma de organizar y alamcenar datos en python"
   ]
  },
  {
   "cell_type": "code",
   "execution_count": 60,
   "metadata": {},
   "outputs": [
    {
     "name": "stdout",
     "output_type": "stream",
     "text": [
      "['Delaware', 'Pennsylvania', 'New Jersey', 'Georgia', 'Connecticut', 'Massachusetts', 'Maryland', 'South Carolina', 'New Hampshire', 'Virginia', 'New York', 'North Carolina', 'Rhode Island', 'Vermont', 'Kentucky', 'Tennessee', 'Ohio', 'Louisiana', 'Indiana', 'Mississippi', 'Illinois', 'Alabama', 'Maine', 'Missouri', 'Arkansas', 'Michigan', 'Florida', 'Texas', 'Iowa', 'Wisconsin', 'California', 'Minnesota', 'Oregon', 'Kansas', 'West Virginia', 'Nevada', 'Nebraska', 'Colorado', 'North Dakota', 'South Dakota', 'Montana', 'Washington', 'Idaho', 'Wyoming', 'Utah', 'Oklahoma', 'New Mexico', 'Arizona', 'Alaska', 'Hawaii'] \n",
      "\n",
      "Delaware\n",
      "Hawaii\n",
      "['Delaware', 'Loja', 'New Jersey', 'Georgia', 'Connecticut', 'Massachusetts', 'Maryland', 'South Carolina', 'New Hampshire', 'Virginia', 'New York', 'North Carolina', 'Rhode Island', 'Vermont', 'Kentucky', 'Tennessee', 'Ohio', 'Louisiana', 'Indiana', 'Mississippi', 'Illinois', 'Alabama', 'Maine', 'Missouri', 'Arkansas', 'Michigan', 'Florida', 'Texas', 'Iowa', 'Wisconsin', 'California', 'Minnesota', 'Oregon', 'Kansas', 'West Virginia', 'Nevada', 'Nebraska', 'Colorado', 'North Dakota', 'South Dakota', 'Montana', 'Washington', 'Idaho', 'Wyoming', 'Utah', 'Oklahoma', 'New Mexico', 'Arizona', 'Alaska', 'Hawaii', 'Quito', 'Jose', 'Diaz']\n"
     ]
    }
   ],
   "source": [
    "states_of_america = [\"Delaware\", \"Pennsylvania\", \"New Jersey\", \"Georgia\", \"Connecticut\", \"Massachusetts\", \"Maryland\", \"South Carolina\", \"New Hampshire\", \"Virginia\", \"New York\", \"North Carolina\", \"Rhode Island\", \"Vermont\", \"Kentucky\", \"Tennessee\", \"Ohio\", \"Louisiana\", \"Indiana\", \"Mississippi\", \"Illinois\", \"Alabama\", \"Maine\", \"Missouri\", \"Arkansas\", \"Michigan\", \"Florida\", \"Texas\", \"Iowa\", \"Wisconsin\", \"California\", \"Minnesota\", \"Oregon\", \"Kansas\", \"West Virginia\", \"Nevada\", \"Nebraska\", \"Colorado\", \"North Dakota\", \"South Dakota\", \"Montana\", \"Washington\", \"Idaho\", \"Wyoming\", \"Utah\", \"Oklahoma\", \"New Mexico\", \"Arizona\", \"Alaska\", \"Hawaii\"]\n",
    "print(states_of_america,\"\\n\")\n",
    "\n",
    "#agregando un indice positivo\n",
    "print(states_of_america[0])\n",
    "\n",
    "#agregando un indice negativo\n",
    "print(states_of_america[-1])\n",
    "\n",
    "#asiganar un valor diferente\n",
    "states_of_america[1] = \"Loja\"\n",
    "\n",
    "#agregar un valor a la lista\n",
    "states_of_america.append(\"Quito\")\n",
    "\n",
    "#extender el valor\n",
    "states_of_america.extend([\"Jose\",\"Diaz\"])\n",
    "\n",
    "print(states_of_america)\n",
    "\n",
    "#dirty_dozen = [\"Strawberries\", \"Spinach\", \"Kale\", \"Nectarines\", \"Apples\", \"Grapes\", \"Peaches\", \"Cherries\", \"Pears\", \"Tomatoes\", \"Celery\", \"Potatoes\"]"
   ]
  },
  {
   "cell_type": "markdown",
   "metadata": {},
   "source": [
    "## Who's Paying\n",
    "\n",
    "# Instructions\n",
    "\n",
    "You are going to write a program which will select a random name from a list of names. The person selected will have to pay for everybody's food bill. \n",
    "\n",
    "**Important**: You are not allowed to use the `choice()` function.\n",
    "\n",
    "**Line 8** splits the string `names_string` into individual names and puts them inside a **List** called `names`. For this to work, you must enter all the names as name followed by comma then space. e.g. name, name, name\n",
    "\n",
    "# Example Input\n",
    "\n",
    "```\n",
    "Angela, Ben, Jenny, Michael, Chloe\n",
    "```\n",
    "Note: notice that there is a space between the comma and the next name. \n",
    "# Example Output\n",
    "\n",
    "```\n",
    "Michael is going to buy the meal today!\n",
    "```\n",
    "\n",
    "\n",
    "# Hint\n",
    "\n",
    "1. You might need the help of the `len()` function.   \n",
    "\n",
    "[https://stackoverflow.com/questions/1712227/how-do-i-get-the-number-of-elements-in-a-list](https://stackoverflow.com/questions/1712227/how-do-i-get-the-number-of-elements-in-a-list)\n",
    "\n",
    "2. Remember that Lists start at index 0!\n",
    "\n",
    "# Solution\n",
    "\n",
    "[https://repl.it/@appbrewery/day-4-2-solution](https://repl.it/@appbrewery/day-4-2-solution)"
   ]
  },
  {
   "cell_type": "code",
   "execution_count": 92,
   "metadata": {},
   "outputs": [
    {
     "name": "stdout",
     "output_type": "stream",
     "text": [
      "Give me everybody's names, seperated by a comma. jose, maria, pedro\n",
      "jose is going to buy the meal today!\n"
     ]
    }
   ],
   "source": [
    "import random\n",
    "\n",
    "# Split string method\n",
    "names_string = input(\"Give me everybody's names, seperated by a comma. \")\n",
    "names = names_string.split(\", \")\n",
    "#Write your code below this line 👇\n",
    "\n",
    "#Get the total number of items in list.\n",
    "num_items = len(names)\n",
    "#Generate random numbers between 0 and the last index. \n",
    "random_choice = random.randint(0, num_items - 1)\n",
    "#Pick out random person from list of names using the random number.\n",
    "person_who_will_pay = names[random_choice]\n",
    "\n",
    "print(person_who_will_pay + \" is going to buy the meal today!\")\n",
    "\n",
    "#import random\n",
    " \n",
    "#random_names = random.choice(names)\n",
    " \n",
    "#print(f\"Today's bill will be paid by {random_names} !\")\n"
   ]
  },
  {
   "cell_type": "markdown",
   "metadata": {},
   "source": [
    "### Errores"
   ]
  },
  {
   "cell_type": "code",
   "execution_count": 87,
   "metadata": {},
   "outputs": [
    {
     "name": "stdout",
     "output_type": "stream",
     "text": [
      "[['Strawberries', 'Spinach', 'Kale', 'Nectarines', 'Apples', 'Grapes', 'Peaches', 'Cherries', 'Pears'], ['Spinach', 'Kale', 'Tomatoes', 'Celery', 'Potatoes']]\n"
     ]
    }
   ],
   "source": [
    "fruits = [\"Strawberries\",\"Spinach\",\"Kale\",\"Nectarines\",\"Apples\",\"Grapes\",\"Peaches\",\"Cherries\",\"Pears\"]\n",
    "vegetables = [\"Spinach\",\"Kale\",\"Tomatoes\",\"Celery\",\"Potatoes\"]\n",
    "\n",
    "dirty_dazen = [fruits, vegetables]\n",
    "\n",
    "print(dirty_dazen)"
   ]
  },
  {
   "cell_type": "markdown",
   "metadata": {},
   "source": [
    "## Treasure Map\n",
    "\n",
    "![](https://cdn.fs.teachablecdn.com/wiFJAkZZSG2RpGsxYgDO)\n",
    "# Instructions\n",
    "\n",
    "You are going to write a program which will mark a spot with an X.\n",
    "\n",
    "In the starting code, you will find a variable called ```map```.\n",
    "\n",
    "This ```map``` contains a nested list.\n",
    "When ```map``` is printed this is what the nested list looks like:\n",
    "```\n",
    "['⬜️', '⬜️', '⬜️'],['⬜️', '⬜️', '⬜️'],['⬜️', '⬜️', '⬜️']\n",
    "```\n",
    "In the starting code, we have used new lines (```\\n```) to format the three rows into a square, like this:\n",
    "```\n",
    "['⬜️', '⬜️', '⬜️']\n",
    "['⬜️', '⬜️', '⬜️']\n",
    "['⬜️', '⬜️', '⬜️']\n",
    "```\n",
    "This is to try and simulate the coordinates on a real map. \n",
    "\n",
    "![](https://res.cloudinary.com/dk-find-out/image/upload/q_80,w_1440,f_auto/Co-ordinates_oggjzg.jpg)\n",
    "\n",
    "Your job is to write a program that allows you to mark a square on the map using a two-digit system. The first digit is the vertical column number and the second digit is the horizontal row number. e.g.:\n",
    "\n",
    "![](https://cdn.fs.teachablecdn.com/2vnboIYTFFruvl9FJ2w5)\n",
    "\n",
    "First your program must take the user input and convert it to a usable format. \n",
    "\n",
    "Next, you need to use it to update your nested list with an \"x\". \n",
    "\n",
    "# Example Input 1\n",
    "\n",
    "column 2, row 3 would be entered as:\n",
    "\n",
    "```\n",
    "23\n",
    "```\n",
    "\n",
    "# Example Output 1\n",
    "\n",
    "```\n",
    "['⬜️', '⬜️', '⬜️']\n",
    "\n",
    "['⬜️', '⬜️', '⬜️']\n",
    "\n",
    "['⬜️', 'X', '⬜️']\n",
    "```\n",
    "\n",
    "# Example Input 2\n",
    "\n",
    "column 3, row 1 would be entered as:\n",
    "\n",
    "```\n",
    "31\n",
    "```\n",
    "\n",
    "# Example Output 2\n",
    "\n",
    "```\n",
    "['⬜️', '⬜️', 'X']\n",
    "\n",
    "['⬜️', '⬜️', '⬜️']\n",
    "\n",
    "['⬜️', '⬜️', '⬜️']\n",
    "```\n",
    "\n",
    "e.g. When you hit **run**, this is what should happen: \n",
    "\n",
    "![](https://cdn.fs.teachablecdn.com/5hliFjyIR96LdestyfPd)\n",
    "\n",
    "# Hint\n",
    "\n",
    "1. Remember that Lists start at index 0!\n",
    "2. ```map``` is just a variable that contains a nested list. It's not related to the map function in Python.\n",
    "\n",
    "# Solution\n",
    "\n",
    "[https://repl.it/@appbrewery/day-4-3-solution](https://repl.it/@appbrewery/day-4-3-solution)"
   ]
  },
  {
   "cell_type": "code",
   "execution_count": 95,
   "metadata": {},
   "outputs": [
    {
     "name": "stdout",
     "output_type": "stream",
     "text": [
      "['⬜️', '️⬜️', '️⬜️']\n",
      "['⬜️', '⬜️', '️⬜️']\n",
      "['⬜️️', '⬜️️', '⬜️️']\n",
      "Where do you want to put the treasure? 22\n",
      "['⬜️', '️⬜️', '️⬜️']\n",
      "['⬜️', 'X', '️⬜️']\n",
      "['⬜️️', '⬜️️', '⬜️️']\n"
     ]
    }
   ],
   "source": [
    "row1 = [\"⬜️\",\"️⬜️\",\"️⬜️\"]\n",
    "row2 = [\"⬜️\",\"⬜️\",\"️⬜️\"]\n",
    "row3 = [\"⬜️️\",\"⬜️️\",\"⬜️️\"]\n",
    "map = [row1, row2, row3]\n",
    "print(f\"{row1}\\n{row2}\\n{row3}\")\n",
    "\n",
    "position = input(\"Where do you want to put the treasure? \")\n",
    "\n",
    "horizontal = int(position[0])\n",
    "vertical = int(position[1])\n",
    "\n",
    "map[vertical - 1][horizontal - 1] = \"X\"\n",
    "\n",
    "print(f\"{row1}\\n{row2}\\n{row3}\")"
   ]
  },
  {
   "cell_type": "markdown",
   "metadata": {},
   "source": [
    "### PROYECTO PIEDRA PAL O TIGERA"
   ]
  },
  {
   "cell_type": "code",
   "execution_count": 97,
   "metadata": {},
   "outputs": [
    {
     "name": "stdout",
     "output_type": "stream",
     "text": [
      "What do you choose? Type 0 for Rock, 1 for Paper or 2 for Scissors.\n",
      "2\n",
      "\n",
      "    _______\n",
      "---'   ____)____\n",
      "          ______)\n",
      "       __________)\n",
      "      (____)\n",
      "---.__(___)\n",
      "\n",
      "Computer chose:\n",
      "\n",
      "    _______\n",
      "---'   ____)____\n",
      "          ______)\n",
      "          _______)\n",
      "         _______)\n",
      "---.__________)\n",
      "\n",
      "You win!\n"
     ]
    }
   ],
   "source": [
    "import random\n",
    "\n",
    "rock = '''\n",
    "    _______\n",
    "---'   ____)\n",
    "      (_____)\n",
    "      (_____)\n",
    "      (____)\n",
    "---.__(___)\n",
    "'''\n",
    "\n",
    "paper = '''\n",
    "    _______\n",
    "---'   ____)____\n",
    "          ______)\n",
    "          _______)\n",
    "         _______)\n",
    "---.__________)\n",
    "'''\n",
    "\n",
    "scissors = '''\n",
    "    _______\n",
    "---'   ____)____\n",
    "          ______)\n",
    "       __________)\n",
    "      (____)\n",
    "---.__(___)\n",
    "'''\n",
    "game_images = [rock, paper, scissors]\n",
    "\n",
    "user_choice = int(input(\"What do you choose? Type 0 for Rock, 1 for Paper or 2 for Scissors.\\n\"))\n",
    "print(game_images[user_choice])\n",
    "\n",
    "computer_choice = random.randint(0, 2)\n",
    "print(\"Computer chose:\")\n",
    "print(game_images[computer_choice])\n",
    "\n",
    "if user_choice >= 3 or user_choice < 0: \n",
    "  print(\"You typed an invalid number, you lose!\") \n",
    "elif user_choice == 0 and computer_choice == 2:\n",
    "  print(\"You win!\")\n",
    "elif computer_choice == 0 and user_choice == 2:\n",
    "  print(\"You lose\")\n",
    "elif computer_choice > user_choice:\n",
    "  print(\"You lose\")\n",
    "elif user_choice > computer_choice:\n",
    "  print(\"You win!\")\n",
    "elif computer_choice == user_choice:\n",
    "  print(\"It's a draw\")\n"
   ]
  }
 ],
 "metadata": {
  "kernelspec": {
   "display_name": "Python 3",
   "language": "python",
   "name": "python3"
  },
  "language_info": {
   "codemirror_mode": {
    "name": "ipython",
    "version": 3
   },
   "file_extension": ".py",
   "mimetype": "text/x-python",
   "name": "python",
   "nbconvert_exporter": "python",
   "pygments_lexer": "ipython3",
   "version": "3.8.5"
  }
 },
 "nbformat": 4,
 "nbformat_minor": 4
}
