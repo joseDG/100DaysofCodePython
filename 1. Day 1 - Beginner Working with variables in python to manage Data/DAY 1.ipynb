{
 "cells": [
  {
   "cell_type": "markdown",
   "metadata": {},
   "source": [
    "## Printing to the Console\n",
    "\n",
    "# Instructions\n",
    "\n",
    "Write a program in main.py that prints the same notes from the previous lesson using what you have learnt about the Python print function. \n",
    "\n",
    "**Warning:** La salida en su programa debe coincidir exactamente con la salida de ejemplo que se muestra a continuación, carácter por carácter, incluso los espacios y los símbolos deben ser idénticos, de lo contrario las pruebas no pasarán.\n",
    "\n",
    "# Example Output\n",
    "\n",
    "Después de haber escrito su código, debe ejecutar su programa y debe imprimir lo siguiente\n",
    "\n",
    "```\n",
    "Day 1 - Python Print Function\n",
    "```\n",
    "\n",
    "```\n",
    "The function is declared like this:\n",
    "```\n",
    "\n",
    "```\n",
    "print('what to print')\n",
    "```\n",
    "\n",
    "e.g. When you hit **run**, this is what should happen:\n",
    "![](https://cdn.fs.teachablecdn.com/q89uzhvRTf6CZHLtxLm6)\n",
    " \n",
    "# Test Your Code\n",
    "\n",
    "Before checking the solution, try copy-pasting your code into this repl: \n",
    "\n",
    "[https://repl.it/@appbrewery/day-1-1-test-your-code](https://repl.it/@appbrewery/day-1-1-test-your-code)\n",
    "\n",
    "This repl includes my testing code that will check if your code meets this assignment's objectives. \n",
    "\n",
    "# Solution\n",
    "\n",
    "[https://repl.it/@appbrewery/day-1-1-solution](https://repl.it/@appbrewery/day-1-1-solution)"
   ]
  },
  {
   "cell_type": "markdown",
   "metadata": {},
   "source": [
    "#### Solución"
   ]
  },
  {
   "cell_type": "code",
   "execution_count": 3,
   "metadata": {},
   "outputs": [
    {
     "name": "stdout",
     "output_type": "stream",
     "text": [
      "Day 1 - Python print Function\n",
      "The function is declared like this\n",
      "print('what to print')\n"
     ]
    }
   ],
   "source": [
    "print(\"Day 1 - Python print Function\")\n",
    "print(\"The function is declared like this\")\n",
    "print(\"print('what to print')\")"
   ]
  },
  {
   "cell_type": "markdown",
   "metadata": {},
   "source": [
    "### Manipulacion de string y codigo inteligente"
   ]
  },
  {
   "cell_type": "code",
   "execution_count": 6,
   "metadata": {},
   "outputs": [
    {
     "name": "stdout",
     "output_type": "stream",
     "text": [
      "Hello world!\n",
      "Hello world!\n"
     ]
    }
   ],
   "source": [
    "print(\"Hello world!\\nHello world!\")"
   ]
  },
  {
   "cell_type": "markdown",
   "metadata": {},
   "source": [
    "### concatenar"
   ]
  },
  {
   "cell_type": "code",
   "execution_count": 10,
   "metadata": {},
   "outputs": [
    {
     "name": "stdout",
     "output_type": "stream",
     "text": [
      "Hello Angela\n"
     ]
    }
   ],
   "source": [
    "print(\"Hello\" + \" \" + \"Angela\")"
   ]
  },
  {
   "cell_type": "markdown",
   "metadata": {},
   "source": [
    "## Debugging\n",
    "\n",
    "# Instructions\n",
    "\n",
    "Look at the code in the code editor on the left. There are errors in all of the lines of code. Fix the code so that it runs without errors.\n",
    "\n",
    "**Warning:** The output in your program should match the example output shown below exactly, character for character, even spaces and symbols should be identical, otherwise the tests won't pass. \n",
    "\n",
    "# Example Output\n",
    "\n",
    "When you run your program, it should print the following:\n",
    "\n",
    "```\n",
    "Day 1 - String Manipulation\n",
    "String Concatenation is done with the \"+\" sign.\n",
    "e.g. print(\"Hello \" + \"world\")\n",
    "New lines can be created with a backslash and n.\n",
    "```\n",
    "\n",
    "e.g. When you hit **run**, there should be no errors and this is what should happen:\n",
    "\n",
    " ![](https://cdn.fs.teachablecdn.com/BVP20Z2T1Gb4Pi6rOQah)\n",
    "\n",
    "# Test Your Code\n",
    "\n",
    "Before checking the solution, try copy-pasting your code into this repl: \n",
    "\n",
    "[https://repl.it/@appbrewery/day-1-2-test-your-code](https://repl.it/@appbrewery/day-1-2-test-your-code)\n",
    "\n",
    "This repl includes my testing code that will check if your code meets this assignment's objectives. \n",
    "\n",
    "# Solution\n",
    "\n",
    "[https://repl.it/@appbrewery/day-1-2-solution](https://repl.it/@appbrewery/day-1-2-solution)"
   ]
  },
  {
   "cell_type": "code",
   "execution_count": 22,
   "metadata": {},
   "outputs": [
    {
     "name": "stdout",
     "output_type": "stream",
     "text": [
      "Day 1 - String Manipulation\n",
      "String Concatenation is done with the \"+\" sign.\n",
      "e.g. print(\"Hello \" + \"world\")\n",
      "New lines can be created with a backslash and n.\n"
     ]
    }
   ],
   "source": [
    "#1. Missing double quotes before the word Day.\n",
    "print(\"Day 1 - String Manipulation\")\n",
    "\n",
    "#2. Outer double quotes changed to single quotes.\n",
    "print('String Concatenation is done with the \"+\" sign.')\n",
    "\n",
    "#3. Extra indentation removed\n",
    "print('e.g. print(\"Hello \" + \"world\")')\n",
    "\n",
    "#4. Extra ( in print function removed.\n",
    "print(\"New lines can be created with a backslash and n.\")"
   ]
  },
  {
   "cell_type": "markdown",
   "metadata": {},
   "source": [
    "## Inputs\n",
    "\n",
    "# Instructions\n",
    "\n",
    "Write a program that prints the number of characters in a user's name. You might need to Google for a function that calculates the length of a string. \n",
    "\n",
    "e.g.\n",
    "\n",
    "[https://www.google.com/search?q=how+to+get+the+length+of+a+string+in+python+stack+overflow](https://www.google.com/search?sxsrf=ACYBGNRxEaJIWyKHuWI0Lk24t4KuZVyeew:1579706585702&q=how+to+get+the+length+of+a+string+in+python+stack+overflow)\n",
    "\n",
    "**Warning.** Your program should work for different inputs. e.g. any name that you input.\n",
    "\n",
    "# Example Input\n",
    "\n",
    "```\n",
    "Angela\n",
    "```\n",
    "\n",
    "# Example Output\n",
    "\n",
    "```\n",
    "6\n",
    "```\n",
    "\n",
    "e.g. When you hit **run**, this is what should happen:\n",
    "\n",
    "![](https://cdn.fs.teachablecdn.com/opevxYZSTM2ZHjbAX3XV) \n",
    "\n",
    "# Hint\n",
    "\n",
    "1. You can put functions inside other functions.\n",
    "2. Don't try to print anything other than the length.\n",
    "\n",
    "# Test Your Code\n",
    "\n",
    "Before checking the solution, try copy-pasting your code into this repl: \n",
    "\n",
    "[https://repl.it/@appbrewery/day-1-3-test-your-code](https://repl.it/@appbrewery/day-1-3-test-your-code)\n",
    "\n",
    "This repl includes my testing code that will check if your code meets this assignment's objectives. \n",
    "\n",
    "\n",
    "# Solution\n",
    "\n",
    "[https://repl.it/@appbrewery/day-1-3-solution](https://repl.it/@appbrewery/day-1-3-solution)"
   ]
  },
  {
   "cell_type": "code",
   "execution_count": 24,
   "metadata": {},
   "outputs": [
    {
     "name": "stdout",
     "output_type": "stream",
     "text": [
      "What is your name? andera\n",
      "6\n"
     ]
    }
   ],
   "source": [
    "#This code prints the number of characters in a user's name.\n",
    "print( len( input(\"What is your name? \") ) )\n",
    "\n",
    "\n",
    "\n",
    "#Notes\n",
    "#If input was \"Jack\"\n",
    "#1st: print(len(\"Jack\"))\n",
    "#2nd: print(4)"
   ]
  },
  {
   "cell_type": "markdown",
   "metadata": {},
   "source": [
    "## Variables\n",
    "\n",
    "# Instructions\n",
    "\n",
    "Write a program that switches the values stored in the variables a and b. \n",
    "\n",
    "**Warning.** Do not change the code on lines 1-4 and 12-18. Your program should work for different inputs. e.g. any value of a and b.\n",
    "\n",
    "# Example Input\n",
    "\n",
    "```\n",
    "a: 3\n",
    "```\n",
    "\n",
    "```\n",
    "b: 5\n",
    "```\n",
    "\n",
    "# Example Output\n",
    "\n",
    "```\n",
    "a: 5\n",
    "```\n",
    "\n",
    "```\n",
    "b: 3\n",
    "```\n",
    "\n",
    "e.g. When you hit **run**, this is what should happen:\n",
    "\n",
    "![](https://cdn.fs.teachablecdn.com/tgdNl0iSqK6RpPyYZh9d)\n",
    "\n",
    "# Hint\n",
    "\n",
    "1. You should not have to type any numbers in your code. \n",
    "2. You might need to make some more variables.\n",
    "\n",
    "# Test Your Code\n",
    "\n",
    "Before checking the solution, try copy-pasting your code into this repl: \n",
    "\n",
    "[https://repl.it/@appbrewery/day-1-4-test-your-code](https://repl.it/@appbrewery/day-1-4-test-your-code)\n",
    "\n",
    "This repl includes my testing code that will check if your code meets this assignment's objectives. \n",
    "\n",
    "\n",
    "\n",
    "\n",
    "# Solution\n",
    "\n",
    "[https://repl.it/@appbrewery/day-1-4-solution](https://repl.it/@appbrewery/day-1-4-solution)"
   ]
  },
  {
   "cell_type": "code",
   "execution_count": 26,
   "metadata": {},
   "outputs": [
    {
     "name": "stdout",
     "output_type": "stream",
     "text": [
      "a: 4\n",
      "b: 5\n",
      "a: 5\n",
      "b: 4\n"
     ]
    }
   ],
   "source": [
    "# 🚨 Don't change the code below 👇\n",
    "a = input(\"a: \")\n",
    "b = input(\"b: \")\n",
    "# 🚨 Don't change the code above 👆\n",
    "\n",
    "####################################\n",
    "#Write your code below this line 👇\n",
    "\n",
    "c = a\n",
    "a = b\n",
    "b = c\n",
    "\n",
    "\n",
    "#Write your code above this line 👆\n",
    "####################################\n",
    "\n",
    "# 🚨 Don't change the code below 👇\n",
    "print(\"a: \" + a)\n",
    "print(\"b: \" + b)\n"
   ]
  },
  {
   "cell_type": "code",
   "execution_count": 28,
   "metadata": {},
   "outputs": [
    {
     "name": "stdout",
     "output_type": "stream",
     "text": [
      "What is your name?andrea\n",
      "Hello andrea\n"
     ]
    }
   ],
   "source": [
    "# input() will get user input in console\n",
    "# Then print() will print the word \"Hello\" and the user input\n",
    "print(\"Hello \" + input(\"What is your name?\"))"
   ]
  },
  {
   "cell_type": "code",
   "execution_count": 29,
   "metadata": {},
   "outputs": [
    {
     "name": "stdout",
     "output_type": "stream",
     "text": [
      "Welcome to the Band Name Generator.\n",
      "What's name of the city you grew up in?\n",
      "loja\n",
      "What's your pet's name?\n",
      "gobu\n",
      "Your band name could be loja gobu\n"
     ]
    }
   ],
   "source": [
    "#programa practica\n",
    "print(\"Welcome to the Band Name Generator.\")\n",
    "street = input(\"What's name of the city you grew up in?\\n\")\n",
    "pet = input(\"What's your pet's name?\\n\")\n",
    "print(\"Your band name could be \" + street + \" \" + pet)"
   ]
  }
 ],
 "metadata": {
  "kernelspec": {
   "display_name": "Python 3",
   "language": "python",
   "name": "python3"
  },
  "language_info": {
   "codemirror_mode": {
    "name": "ipython",
    "version": 3
   },
   "file_extension": ".py",
   "mimetype": "text/x-python",
   "name": "python",
   "nbconvert_exporter": "python",
   "pygments_lexer": "ipython3",
   "version": "3.8.5"
  }
 },
 "nbformat": 4,
 "nbformat_minor": 4
}
