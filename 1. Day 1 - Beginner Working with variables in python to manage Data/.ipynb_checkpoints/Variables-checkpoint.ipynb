{
 "cells": [
  {
   "cell_type": "code",
   "execution_count": 5,
   "metadata": {},
   "outputs": [
    {
     "name": "stdout",
     "output_type": "stream",
     "text": [
      "Day 1 - Funcion para imprimir\n",
      "La funcion se declara asi\n",
      "print('cual imprime')\n"
     ]
    }
   ],
   "source": [
    "print(\"Day 1 - Funcion para imprimir\")\n",
    "print('La funcion se declara asi')\n",
    "print(\"print('cual imprime')\")"
   ]
  },
  {
   "cell_type": "code",
   "execution_count": 7,
   "metadata": {},
   "outputs": [
    {
     "name": "stdout",
     "output_type": "stream",
     "text": [
      "una mesa \n",
      "una silla\n"
     ]
    }
   ],
   "source": [
    "#crear un salto de linea\n",
    "print(\"una mesa \\nuna silla\")"
   ]
  },
  {
   "cell_type": "code",
   "execution_count": 11,
   "metadata": {},
   "outputs": [
    {
     "data": {
      "text/plain": [
       "'Jose Diaz'"
      ]
     },
     "execution_count": 11,
     "metadata": {},
     "output_type": "execute_result"
    }
   ],
   "source": [
    "#varaibles \n",
    "nombre = \"Jose Diaz\"\n",
    "nombre"
   ]
  },
  {
   "cell_type": "code",
   "execution_count": 13,
   "metadata": {},
   "outputs": [
    {
     "name": "stdout",
     "output_type": "stream",
     "text": [
      "Cual es tu nombrejose\n",
      "Hola jose\n"
     ]
    }
   ],
   "source": [
    "#creacion del input\n",
    "print(\"Hola \"+ input(\"Cual es tu nombre\"))"
   ]
  },
  {
   "cell_type": "code",
   "execution_count": 18,
   "metadata": {},
   "outputs": [
    {
     "name": "stdout",
     "output_type": "stream",
     "text": [
      "Tamaño de letras 7, Palabra Ecuador\n"
     ]
    }
   ],
   "source": [
    "ciudad = \"Ecuador\"\n",
    "length = len(ciudad)\n",
    "print(\"Tamaño de letras {1}, Palabra {0}\".format(ciudad,length))"
   ]
  },
  {
   "cell_type": "code",
   "execution_count": 22,
   "metadata": {},
   "outputs": [
    {
     "name": "stdout",
     "output_type": "stream",
     "text": [
      "Bienvenido a tu band name genreator\n",
      "Cual es tu ciudadsa\n",
      "Cual es el nombre de mascotasa\n",
      "Tu datos podrian ser: sa, y tu mascota sa\n"
     ]
    }
   ],
   "source": [
    "#ejercicio completo\n",
    "print(\"Bienvenido a tu band name genreator\")\n",
    "city = input(\"Cual es tu ciudad\")\n",
    "pet = input(\"Cual es el nombre de mascota\")\n",
    "print(\"Tu datos podrian ser: {0}, y tu mascota {1}\".format(city,pet))"
   ]
  }
 ],
 "metadata": {
  "kernelspec": {
   "display_name": "Python 3",
   "language": "python",
   "name": "python3"
  },
  "language_info": {
   "codemirror_mode": {
    "name": "ipython",
    "version": 3
   },
   "file_extension": ".py",
   "mimetype": "text/x-python",
   "name": "python",
   "nbconvert_exporter": "python",
   "pygments_lexer": "ipython3",
   "version": "3.8.5"
  }
 },
 "nbformat": 4,
 "nbformat_minor": 4
}
