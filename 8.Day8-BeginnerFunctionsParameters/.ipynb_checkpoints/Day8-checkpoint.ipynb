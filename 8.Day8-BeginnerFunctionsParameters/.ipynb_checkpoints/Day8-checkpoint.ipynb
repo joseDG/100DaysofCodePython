{
 "cells": [
  {
   "cell_type": "code",
   "execution_count": 2,
   "metadata": {},
   "outputs": [
    {
     "name": "stdout",
     "output_type": "stream",
     "text": [
      "hello Angela\n",
      "How do you do Jack Bauer?\n",
      "Isn´t the weather nice today\n"
     ]
    }
   ],
   "source": [
    "#Funciones Simples\n",
    "def great():\n",
    "    print(\"hello Angela\")\n",
    "    print(\"How do you do Jack Bauer?\")\n",
    "    print(\"Isn´t the weather nice today\")\n",
    "great()"
   ]
  },
  {
   "cell_type": "code",
   "execution_count": 5,
   "metadata": {},
   "outputs": [
    {
     "name": "stdout",
     "output_type": "stream",
     "text": [
      "Hello Angela\n",
      "How do you do Angela?\n"
     ]
    }
   ],
   "source": [
    "#Funciones con parametros\n",
    "def greet_with_name(name):\n",
    "    print(f\"Hello {name}\")\n",
    "    print(f\"How do you do {name}?\")\n",
    "\n",
    "greet_with_name(\"Angela\")"
   ]
  },
  {
   "cell_type": "code",
   "execution_count": 7,
   "metadata": {},
   "outputs": [
    {
     "name": "stdout",
     "output_type": "stream",
     "text": [
      "Hello Jose\n",
      "What is it like in Quito\n"
     ]
    }
   ],
   "source": [
    "#Funciones con mas de 1 entrada\n",
    "def greet_with(name, location):\n",
    "    print(f\"Hello {name}\")\n",
    "    print(f\"What is it like in {location}\")\n",
    "\n",
    "greet_with(\"Jose\",\"Quito\")\n",
    "    "
   ]
  },
  {
   "cell_type": "code",
   "execution_count": 13,
   "metadata": {},
   "outputs": [
    {
     "ename": "NameError",
     "evalue": "name 'name' is not defined",
     "output_type": "error",
     "traceback": [
      "\u001b[1;31m---------------------------------------------------------------------------\u001b[0m",
      "\u001b[1;31mNameError\u001b[0m                                 Traceback (most recent call last)",
      "\u001b[1;32m<ipython-input-13-32e8f44409b4>\u001b[0m in \u001b[0;36m<module>\u001b[1;34m\u001b[0m\n\u001b[0;32m      4\u001b[0m     \u001b[0mprint\u001b[0m\u001b[1;33m(\u001b[0m\u001b[1;34mf\"What is it like in {location}\"\u001b[0m\u001b[1;33m)\u001b[0m\u001b[1;33m\u001b[0m\u001b[1;33m\u001b[0m\u001b[0m\n\u001b[0;32m      5\u001b[0m \u001b[1;33m\u001b[0m\u001b[0m\n\u001b[1;32m----> 6\u001b[1;33m \u001b[0mgreet_with\u001b[0m\u001b[1;33m(\u001b[0m\u001b[0mname\u001b[0m\u001b[1;33m,\u001b[0m\u001b[0mlocation\u001b[0m\u001b[1;33m)\u001b[0m\u001b[1;33m\u001b[0m\u001b[1;33m\u001b[0m\u001b[0m\n\u001b[0m",
      "\u001b[1;31mNameError\u001b[0m: name 'name' is not defined"
     ]
    }
   ],
   "source": [
    "#Fuciones con argumentos\n",
    "def greet_with(name=\"Jose\", location=\"Quito\"):\n",
    "    print(f\"Hello {name}\")\n",
    "    print(f\"What is it like in {location}\")\n",
    "\n",
    "greet_with(name,location)"
   ]
  },
  {
   "cell_type": "code",
   "execution_count": 14,
   "metadata": {},
   "outputs": [
    {
     "name": "stdout",
     "output_type": "stream",
     "text": [
      "Height of wall: 10\n",
      "Width of wall: 10\n",
      "You'll need 20 cans of paint.\n"
     ]
    }
   ],
   "source": [
    "#Problema Calcula cuanta pintura necesitas para pintar una pared\n",
    "#Write your code below this line 👇\n",
    "import math\n",
    "\n",
    "def paint_calc(height, width, cover):\n",
    "    num_cans = (height * width) / cover\n",
    "    round_up_cans = math.ceil(num_cans)\n",
    "    print(f\"You'll need {round_up_cans} cans of paint.\")\n",
    "\n",
    "#Write your code above this line 👆\n",
    "    \n",
    "\n",
    "\n",
    "# 🚨 Don't change the code below 👇\n",
    "test_h = int(input(\"Height of wall: \"))\n",
    "test_w = int(input(\"Width of wall: \"))\n",
    "coverage = 5 #galon de pintura\n",
    "paint_calc(height=test_h, width=test_w, cover=coverage)"
   ]
  },
  {
   "cell_type": "code",
   "execution_count": 1,
   "metadata": {},
   "outputs": [
    {
     "name": "stdout",
     "output_type": "stream",
     "text": [
      "Check this number: 12\n",
      "It's not a prime number.\n"
     ]
    }
   ],
   "source": [
    "#Verificar si un numero es primo\n",
    "    \n",
    "#Do NOT change any of the code below👇\n",
    "n = int(input(\"Check this number: \"))\n",
    "\n",
    "def prime_checker(number):\n",
    "    is_prime = True\n",
    "    for i in range(2, number):\n",
    "        if number % i == 0:\n",
    "            is_prime = False\n",
    "    if is_prime:\n",
    "        print(\"It's a prime number.\")\n",
    "    else:\n",
    "        print(\"It's not a prime number.\")\n",
    "        \n",
    "prime_checker(number=n)"
   ]
  },
  {
   "cell_type": "code",
   "execution_count": 19,
   "metadata": {},
   "outputs": [
    {
     "name": "stdout",
     "output_type": "stream",
     "text": [
      "************\n",
      "    Calculadora\n",
      "    ************\n",
      "    Menu\n",
      "    1) Suma\n",
      "    2) Resta\n",
      "    3) Multiplicacion\n",
      "    4) Division\n",
      "    5) Salir \n",
      "Ingrese su opcion a calcular: 5\n",
      "gracias por usar mi calculadora\n",
      "gracias por usar mi calculadora\n",
      "ingrese 'si' o 'no' para realizar un nuevo calculo: si\n",
      "************\n",
      "    Calculadora\n",
      "    ************\n",
      "    Menu\n",
      "    1) Suma\n",
      "    2) Resta\n",
      "    3) Multiplicacion\n",
      "    4) Division\n",
      "    5) Salir \n",
      "Ingrese su opcion a calcular: 5\n",
      "gracias por usar mi calculadora\n",
      "gracias por usar mi calculadora\n",
      "ingrese 'si' o 'no' para realizar un nuevo calculo: no\n"
     ]
    }
   ],
   "source": [
    "resultado=\"si\"\n",
    "while resultado!=\"no\":\n",
    "    print(\"\"\"************\n",
    "    Calculadora\n",
    "    ************\n",
    "    Menu\n",
    "    1) Suma\n",
    "    2) Resta\n",
    "    3) Multiplicacion\n",
    "    4) Division\n",
    "    5) Salir \"\"\")\n",
    "    opcion=int(input(\"Ingrese su opcion a calcular: \"))\n",
    "    if opcion == 5:\n",
    "        print(\"gracias por usar mi calculadora\")\n",
    "        resultado=\"no\"\n",
    "    else:\n",
    "        x=int(input(\"Ingrese el primer numero para calcular: \"))\n",
    "        y=int(input(\"Ingrese el segundo numero para calcular: \"))\n",
    "    if opcion==1:\n",
    "        print(\"la suma es \", x+y)\n",
    "    elif opcion==2:\n",
    "        print(\"la resta es \", x-y)\n",
    "    elif opcion==3:\n",
    "        print(\"la multiplicacion es \", x*y)\n",
    "    elif opcion==4:\n",
    "        print(\"la division es \",x/y)\n",
    "    elif opcion==5:\n",
    "        print(\"gracias por usar mi calculadora\")\n",
    "    resultado=input(\"ingrese 'si' o 'no' para realizar un nuevo calculo: \")\n",
    "    "
   ]
  },
  {
   "cell_type": "code",
   "execution_count": 17,
   "metadata": {},
   "outputs": [
    {
     "name": "stdout",
     "output_type": "stream",
     "text": [
      "1\n",
      "2\n",
      "3\n",
      "4\n",
      "5\n",
      "6\n",
      "7\n",
      "8\n",
      "9\n"
     ]
    }
   ],
   "source": [
    "i = 1\n",
    "while i < 10:\n",
    "    print(i)\n",
    "    i+=1\n",
    "        "
   ]
  }
 ],
 "metadata": {
  "kernelspec": {
   "display_name": "Python 3",
   "language": "python",
   "name": "python3"
  },
  "language_info": {
   "codemirror_mode": {
    "name": "ipython",
    "version": 3
   },
   "file_extension": ".py",
   "mimetype": "text/x-python",
   "name": "python",
   "nbconvert_exporter": "python",
   "pygments_lexer": "ipython3",
   "version": "3.8.5"
  }
 },
 "nbformat": 4,
 "nbformat_minor": 4
}
