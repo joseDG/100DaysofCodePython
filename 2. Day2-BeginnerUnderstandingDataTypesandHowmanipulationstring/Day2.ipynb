{
 "cells": [
  {
   "cell_type": "markdown",
   "metadata": {},
   "source": [
    "## Data Types\n",
    "\n",
    "# Instructions\n",
    "\n",
    "Write a program that adds the digits in a 2 digit number. e.g. if the input was 35, then the output should be 3 + 5 = 8\n",
    "\n",
    "**Warning.** Do not change the code on lines 1-3. Your program should work for different inputs. e.g. any two-digit number.\n",
    "\n",
    "# Example Input\n",
    "\n",
    "```\n",
    "39\n",
    "```\n",
    "\n",
    "# Example Output\n",
    "\n",
    "3 + 9 = 12\n",
    "\n",
    "```\n",
    "12\n",
    "```\n",
    "\n",
    "e.g. When you hit **run**, this is what should happen:  \n",
    "\n",
    "![](https://cdn.fs.teachablecdn.com/iyJTPDDRRJCB1gmdVQMS)\n",
    "\n",
    "# Hint\n",
    "\n",
    "1. Try to find out the data type of two_digit_number.\n",
    "2. Think about what you learnt about subscripting.\n",
    "3. Think about type conversion.\n",
    "\n",
    "# Test Your Code\n",
    "\n",
    "Before checking the solution, try copy-pasting your code into this repl: \n",
    "\n",
    "[https://repl.it/@appbrewery/day-2-1-test-your-code](https://repl.it/@appbrewery/day-2-1-test-your-code)\n",
    "\n",
    "This repl includes my testing code that will check if your code meets this assignment's objectives. \n",
    "\n",
    "\n",
    "\n",
    "\n",
    "# Solution\n",
    "\n",
    "[https://repl.it/@appbrewery/day-2-1-solution](https://repl.it/@appbrewery/day-2-1-solution)"
   ]
  },
  {
   "cell_type": "code",
   "execution_count": 4,
   "metadata": {},
   "outputs": [
    {
     "name": "stdout",
     "output_type": "stream",
     "text": [
      "Type a two digit number: 65\n",
      "11\n"
     ]
    }
   ],
   "source": [
    "two_digit_number = input(\"Type a two digit number: \")\n",
    "#print(type(two_digit_number))\n",
    "\n",
    "#obtener los valores\n",
    "first_number = int(two_digit_number[0])\n",
    "second_number = int(two_digit_number[1])\n",
    "\n",
    "#agregar los digitos juntos\n",
    "two_digit_number = first_number + second_number\n",
    "\n",
    "#Imprimir el valor\n",
    "print(two_digit_number)"
   ]
  },
  {
   "cell_type": "code",
   "execution_count": 13,
   "metadata": {},
   "outputs": [
    {
     "name": "stdout",
     "output_type": "stream",
     "text": [
      "H\n"
     ]
    }
   ],
   "source": [
    "#repaso con los strings\n",
    "print(\"Hola\"[0])"
   ]
  },
  {
   "cell_type": "markdown",
   "metadata": {},
   "source": [
    "### Mathematical Operations"
   ]
  },
  {
   "cell_type": "code",
   "execution_count": 15,
   "metadata": {},
   "outputs": [
    {
     "data": {
      "text/plain": [
       "8"
      ]
     },
     "execution_count": 15,
     "metadata": {},
     "output_type": "execute_result"
    }
   ],
   "source": [
    "#it´s write expression mathematics\n",
    "3 + 5\n",
    "7 - 4\n",
    "3 * 2\n",
    "6 / 3\n",
    "2 ** 3"
   ]
  },
  {
   "cell_type": "code",
   "execution_count": 17,
   "metadata": {},
   "outputs": [
    {
     "name": "stdout",
     "output_type": "stream",
     "text": [
      "7.0\n"
     ]
    }
   ],
   "source": [
    "#Prioridad\n",
    "# ()\n",
    "# **\n",
    "# * /\n",
    "# + -\n",
    "\n",
    "print(3 * 3 + 3 / 3 - 3)\n"
   ]
  },
  {
   "cell_type": "markdown",
   "metadata": {},
   "source": [
    "## BMI Calculator\n",
    "\n",
    "# Instructions\n",
    "\n",
    "Write a program that calculates the Body Mass Index (BMI) from a user's weight and height.\n",
    "\n",
    "The BMI is a measure of some's weight taking into account their height. e.g. If a tall person and a short person both weigh the same amount, the short person is usually more overweight.\n",
    "\n",
    "The BMI is calculated by dividing a person's weight (in kg) by the square of their height (in m):\n",
    "\n",
    "![](https://cdn.fs.teachablecdn.com/jKHjnLrNQjqzdz3MTMyv)\n",
    "\n",
    "**Warning** you should convert the result to a whole number. \n",
    "\n",
    "# Example Input\n",
    "\n",
    "```\n",
    "weight = 80\n",
    "```\n",
    "\n",
    "```\n",
    "height = 1.75\n",
    "```\n",
    "\n",
    "# Example Output\n",
    "\n",
    "80 ÷ (1.75 x 1.75) =  26.122448979591837\n",
    "\n",
    "```\n",
    "26\n",
    "```\n",
    "\n",
    "e.g. When you hit **run**, this is what should happen:  \n",
    "\n",
    "![](https://cdn.fs.teachablecdn.com/wmjVjddeSmGj0QVtOUrE)\n",
    "\n",
    "# Hint\n",
    "\n",
    "1. Check the data type of the inputs.\n",
    "2. Try to use the exponent operator in your code.\n",
    "3. Remember PEMDAS.\n",
    "4. Remember to convert your result to a whole number (int). \n",
    "\n",
    "# Test Your Code\n",
    "\n",
    "Before checking the solution, try copy-pasting your code into this repl: \n",
    "\n",
    "[https://repl.it/@appbrewery/day-2-2-test-your-code](https://repl.it/@appbrewery/day-2-2-test-your-code)\n",
    "\n",
    "This repl includes my testing code that will check if your code meets this assignment's objectives. \n",
    "\n",
    "\n",
    "\n",
    "# Solution\n",
    "\n",
    "[https://repl.it/@appbrewery/day-2-2-solution](https://repl.it/@appbrewery/day-2-2-solution)"
   ]
  },
  {
   "cell_type": "code",
   "execution_count": 19,
   "metadata": {},
   "outputs": [
    {
     "name": "stdout",
     "output_type": "stream",
     "text": [
      "enter your height in m: 2\n",
      "enter your weight in kg: 3\n",
      "0\n"
     ]
    }
   ],
   "source": [
    "# 🚨 Don't change the code below 👇\n",
    "height = input(\"enter your height in m: \")\n",
    "weight = input(\"enter your weight in kg: \")\n",
    "# 🚨 Don't change the code above 👆\n",
    "\n",
    "#Write your code below this line 👇\n",
    "\n",
    "weight_as_int = int(weight)\n",
    "height_as_float = float(height)\n",
    "\n",
    "# Using the exponent operator **\n",
    "bmi = weight_as_int / height_as_float ** 2\n",
    "# or using multiplication and PEMDAS\n",
    "bmi = weight_as_int / (height_as_float * height_as_float)\n",
    "\n",
    "bmi_as_int = int(bmi)\n",
    "\n",
    "print(bmi_as_int)"
   ]
  },
  {
   "cell_type": "code",
   "execution_count": 21,
   "metadata": {},
   "outputs": [],
   "source": [
    "#Ejercicios con float"
   ]
  },
  {
   "cell_type": "code",
   "execution_count": 24,
   "metadata": {},
   "outputs": [
    {
     "name": "stdout",
     "output_type": "stream",
     "text": [
      "2.67\n"
     ]
    }
   ],
   "source": [
    "print(round(8/3, 2))"
   ]
  },
  {
   "cell_type": "code",
   "execution_count": 26,
   "metadata": {},
   "outputs": [
    {
     "name": "stdout",
     "output_type": "stream",
     "text": [
      "1.0\n"
     ]
    }
   ],
   "source": [
    "result = 4 / 2\n",
    "result /= 2\n",
    "print(result)"
   ]
  },
  {
   "cell_type": "code",
   "execution_count": 28,
   "metadata": {},
   "outputs": [
    {
     "data": {
      "text/plain": [
       "1"
      ]
     },
     "execution_count": 28,
     "metadata": {},
     "output_type": "execute_result"
    }
   ],
   "source": [
    "score = 0\n",
    "\n",
    "score += 1\n",
    "\n",
    "score"
   ]
  },
  {
   "cell_type": "code",
   "execution_count": 30,
   "metadata": {},
   "outputs": [
    {
     "name": "stdout",
     "output_type": "stream",
     "text": [
      "your score is 0, your heigth is 1.8, you are winning is True\n"
     ]
    }
   ],
   "source": [
    "score = 0\n",
    "height = 1.8\n",
    "isWinning = True\n",
    "\n",
    "#utilziar \"f-String\"\n",
    "print(f\"your score is {score}, your heigth is {height}, you are winning is {isWinning}\")"
   ]
  },
  {
   "cell_type": "markdown",
   "metadata": {},
   "source": [
    "## Your Life in Weeks\n",
    "\n",
    "# Instructions\n",
    "\n",
    "I was reading this article by Tim Urban - Your Life in Weeks and realised just how little time we actually have.\n",
    "\n",
    "[https://waitbutwhy.com/2014/05/life-weeks.html](https://waitbutwhy.com/2014/05/life-weeks.html)\n",
    "\n",
    "Create a program using maths and f-Strings that tells us how many days, weeks, months we have left if we live until 90 years old. \n",
    "\n",
    "It will take your current age as the input and output a message with our time left in this format:\n",
    "\n",
    "> You have x days, y weeks, and z months left. \n",
    "\n",
    "Where x, y and z are replaced with the actual calculated numbers. \n",
    "\n",
    " \n",
    "\n",
    "**Warning** your output should match the Example Output format exactly, even the positions of the commas and full stops. \n",
    "\n",
    "# Example Input\n",
    "\n",
    "```\n",
    "56\n",
    "```\n",
    "\n",
    "# Example Output\n",
    "\n",
    "```\n",
    "You have 12410 days, 1768 weeks, and 408 months left.\n",
    "```\n",
    "\n",
    "e.g. When you hit **run**, this is what should happen:  \n",
    "\n",
    " \n",
    "![](https://cdn.fs.teachablecdn.com/RjqBViZQpyVTv7XY6cfA)\n",
    " \n",
    "\n",
    "# Hint\n",
    "\n",
    "1. There are 365 days in a year, 52 weeks in a year and 12 months in a year.\n",
    "2. Try copying the example output into your code and replace the relevant parts so that the sentence is formated the same way.\n",
    "\n",
    "# Test Your Code\n",
    "\n",
    "Before checking the solution, try copy-pasting your code into this repl: \n",
    "\n",
    "[https://repl.it/@appbrewery/day-2-3-test-your-code](https://repl.it/@appbrewery/day-2-3-test-your-code)\n",
    "\n",
    "This repl includes my testing code that will check if your code meets this assignment's objectives. \n",
    "\n",
    "\n",
    "# Solution\n",
    "\n",
    "[https://repl.it/@appbrewery/day-2-3-solution](https://repl.it/@appbrewery/day-2-3-solution)"
   ]
  },
  {
   "cell_type": "code",
   "execution_count": 32,
   "metadata": {},
   "outputs": [
    {
     "name": "stdout",
     "output_type": "stream",
     "text": [
      "What is your current age? 28\n",
      "You have 22630 days, 3224 weeks, and 744 months left.\n"
     ]
    }
   ],
   "source": [
    "# 🚨 Don't change the code below 👇\n",
    "age = input(\"What is your current age? \")\n",
    "# 🚨 Don't change the code above 👆\n",
    "\n",
    "#Write your code below this line 👇\n",
    "\n",
    "years = 90 - int(age)\n",
    "months = round(years * 12)\n",
    "weeks = round(years * 52)\n",
    "days = round(years * 365)\n",
    "\n",
    "print(f\"You have {days} days, {weeks} weeks, and {months} months left.\")"
   ]
  },
  {
   "cell_type": "code",
   "execution_count": 39,
   "metadata": {},
   "outputs": [
    {
     "name": "stdout",
     "output_type": "stream",
     "text": [
      "Welcome to the tip calculator!\n",
      "What was the total bill? $150\n",
      "How much tip would you like to give? 10, 12, or 15? 10\n",
      "How many people to split the bill?9\n",
      "Each person should pay: $18.33\n"
     ]
    }
   ],
   "source": [
    "#If the bill was $150.00, split between 5 people, with 12% tip. \n",
    "#Each person should pay (150.00 / 5) * 1.12 = 33.6\n",
    "#Round the result to 2 decimal places.\n",
    "print(\"Welcome to the tip calculator!\")\n",
    "bill = float(input(\"What was the total bill? $\"))\n",
    "tip = int(input(\"How much tip would you like to give? 10, 12, or 15? \"))\n",
    "people = int(input(\"How many people to split the bill?\"))\n",
    "\n",
    "tip_as_percent = tip / 100\n",
    "total_tip_amount = bill * tip_as_percent\n",
    "total_bill = bill + total_tip_amount\n",
    "bill_per_person = total_bill / people\n",
    "final_amount = round(bill_per_person, 2)\n",
    "\n",
    "#FAQ: How to round to 2 decimal places?\n",
    "#https://www.udemy.com/course/100-days-of-code/learn/lecture/17965132#questions/13315048\n",
    "\n",
    "print(f\"Each person should pay: ${final_amount}\")"
   ]
  }
 ],
 "metadata": {
  "kernelspec": {
   "display_name": "Python 3",
   "language": "python",
   "name": "python3"
  },
  "language_info": {
   "codemirror_mode": {
    "name": "ipython",
    "version": 3
   },
   "file_extension": ".py",
   "mimetype": "text/x-python",
   "name": "python",
   "nbconvert_exporter": "python",
   "pygments_lexer": "ipython3",
   "version": "3.8.5"
  }
 },
 "nbformat": 4,
 "nbformat_minor": 4
}
